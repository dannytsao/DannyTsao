{
  "nbformat": 4,
  "nbformat_minor": 0,
  "metadata": {
    "colab": {
      "provenance": [],
      "authorship_tag": "ABX9TyNg3RuVSQSXbhLbOk4Ise0W",
      "include_colab_link": true
    },
    "kernelspec": {
      "name": "python3",
      "display_name": "Python 3"
    },
    "language_info": {
      "name": "python"
    }
  },
  "cells": [
    {
      "cell_type": "markdown",
      "metadata": {
        "id": "view-in-github",
        "colab_type": "text"
      },
      "source": [
        "<a href=\"https://colab.research.google.com/github/dannytsao/DannyTsao/blob/master/JJCSV2EXCL_v2.ipynb\" target=\"_parent\"><img src=\"https://colab.research.google.com/assets/colab-badge.svg\" alt=\"Open In Colab\"/></a>"
      ]
    },
    {
      "cell_type": "code",
      "execution_count": 1,
      "metadata": {
        "colab": {
          "base_uri": "https://localhost:8080/"
        },
        "id": "RwKAJza8BVCm",
        "outputId": "f114bf3f-db8d-4c55-83d5-9521c1cc2bbe"
      },
      "outputs": [
        {
          "output_type": "stream",
          "name": "stdout",
          "text": [
            "Mounted at /content/drive\n",
            "An error occurred: [Errno 2] No such file or directory: '/content/drive/MyDrive/JJVC_WIP/ORDER_TEMPLATE_JNJ.gsheet'\n"
          ]
        }
      ],
      "source": [
        "import pandas as pd\n",
        "import gspread\n",
        "from oauth2client.service_account import ServiceAccountCredentials\n",
        "from google.colab import drive\n",
        "\n",
        "\n",
        "# Mount Google Drive\n",
        "drive.mount('/content/drive')\n",
        "\n",
        "# Authenticate with Google Drive\n",
        "drive_path = '/content/drive/MyDrive'\n",
        "\n",
        "# Authenticate with Google Sheets\n",
        "scope = ['https://www.googleapis.com/auth/drive', 'https://www.googleapis.com/auth/spreadsheets']\n",
        "\n",
        "credentials = ServiceAccountCredentials.from_json_keyfile_name('/content/drive/MyDrive/JJVC_WIP/jjvc-392508-765246081d65.json', scope)\n",
        "gc = gspread.authorize(credentials)\n",
        "\n",
        "\n",
        "# Open the Google Sheets file\n",
        "sheet = gc.open('JJVC_OTM')\n",
        "worksheet = sheet.get_worksheet(0)\n",
        "\n",
        "\n",
        "def copy_csv_to_excel(csv_file_path, excel_file_path, output_excel_file_path):\n",
        "    try:\n",
        "        # Read data from the Google Sheets file\n",
        "        data = worksheet.get_all_values()\n",
        "        df_csv = pd.DataFrame(data[1:], columns=data[0])\n",
        "\n",
        "        # Read the existing Excel file\n",
        "        df_excel = pd.read_excel(excel_file_path, sheet_name='ORDER')\n",
        "\n",
        "        # Modify the df_excel DataFrame with desired changes\n",
        "        df_excel['OR_CLIENTREFERENCENO'] = df_csv['Delivery']\n",
        "        df_excel['OR_ORDERSOURCEID'] = df_csv['Delivery']\n",
        "        df_excel['DST_LOCATIONNAME'] = df_csv['Ship-to party']\n",
        "        df_excel['DST_CONTACTNO'] = df_csv['Telephone']\n",
        "        df_excel['DST_ADDRESS1'] = df_csv['Street']\n",
        "        df_excel['ORL_PCSQTY'] = df_csv['nit']\n",
        "        df_excel['OR_ORDERADDDATE'] = df_csv['Created on']\n",
        "        df_excel['OR_ORDERADDDATE'] = pd.to_datetime(df_excel['OR_ORDERADDDATE'])\n",
        "        df_excel['OR_REQDELIVERYDATE'] = df_excel['OR_ORDERADDDATE'] + pd.DateOffset(days=1)\n",
        "\n",
        "        # Set default values in the respective columns\n",
        "        default_values = {\n",
        "            'OR_COUNTRY': 'TWN',\n",
        "            'OR_PRINCIPAL': 'JNJ',\n",
        "            # Rest of the default values\n",
        "        }\n",
        "\n",
        "        for column, default_value in default_values.items():\n",
        "            df_excel[column] = default_value\n",
        "\n",
        "        # Save the modified Excel file\n",
        "        writer = pd.ExcelWriter(output_excel_file_path, engine='xlsxwriter')\n",
        "        df_excel.to_excel(writer, index=False, sheet_name='ORDER')\n",
        "        writer.save()\n",
        "        writer.close()\n",
        "\n",
        "        print(f\"Data copied from Google Sheets to {output_excel_file_path} successfully.\")\n",
        "\n",
        "    except gspread.exceptions.APIError as e:\n",
        "        print(\"An API error occurred:\", e)\n",
        "    except Exception as e:\n",
        "        print(\"An error occurred:\", e)\n",
        "\n",
        "# Define file paths\n",
        "# Define file paths\n",
        "csv_file_path = drive_path + '/JJVC_WIP/JJVC_OTM.gsheet'\n",
        "excel_file_path = drive_path + '/JJVC_WIP/ORDER_TEMPLATE_JNJ.gsheet'\n",
        "output_excel_file_path = drive_path + '/JJVC_WIP/ORDER_WIP.gsheet'\n",
        "\n",
        "# Copy data from CSV to Excel and set default value in 'OR_COUNTRY' column\n",
        "copy_csv_to_excel(csv_file_path, excel_file_path, output_excel_file_path)\n"
      ]
    }
  ]
}