{
  "nbformat": 4,
  "nbformat_minor": 0,
  "metadata": {
    "colab": {
      "provenance": [],
      "authorship_tag": "ABX9TyMp45YYgPr+8K0U4nGzRlJr",
      "include_colab_link": true
    },
    "kernelspec": {
      "name": "python3",
      "display_name": "Python 3"
    },
    "language_info": {
      "name": "python"
    }
  },
  "cells": [
    {
      "cell_type": "markdown",
      "metadata": {
        "id": "view-in-github",
        "colab_type": "text"
      },
      "source": [
        "<a href=\"https://colab.research.google.com/github/dannytsao/DannyTsao/blob/master/JJCSV2EXCL.ipynb\" target=\"_parent\"><img src=\"https://colab.research.google.com/assets/colab-badge.svg\" alt=\"Open In Colab\"/></a>"
      ]
    },
    {
      "cell_type": "code",
      "execution_count": 1,
      "metadata": {
        "colab": {
          "base_uri": "https://localhost:8080/",
          "height": 256
        },
        "id": "F4irJJzn8gqy",
        "outputId": "9119d9a6-9b04-42ea-9c81-d2638df74330"
      },
      "outputs": [
        {
          "output_type": "stream",
          "name": "stdout",
          "text": [
            "Mounted at /content/drive\n"
          ]
        },
        {
          "output_type": "error",
          "ename": "NameError",
          "evalue": "ignored",
          "traceback": [
            "\u001b[0;31m---------------------------------------------------------------------------\u001b[0m",
            "\u001b[0;31mNameError\u001b[0m                                 Traceback (most recent call last)",
            "\u001b[0;32m<ipython-input-1-5af4d8ec2493>\u001b[0m in \u001b[0;36m<cell line: 107>\u001b[0;34m()\u001b[0m\n\u001b[1;32m    105\u001b[0m \u001b[0;34m\u001b[0m\u001b[0m\n\u001b[1;32m    106\u001b[0m \u001b[0;31m# Copy data from CSV to Excel and set default value in 'OR_COUNTRY' column\u001b[0m\u001b[0;34m\u001b[0m\u001b[0;34m\u001b[0m\u001b[0m\n\u001b[0;32m--> 107\u001b[0;31m \u001b[0mcopy_csv_to_excel\u001b[0m\u001b[0;34m(\u001b[0m\u001b[0mdf_csv\u001b[0m\u001b[0;34m,\u001b[0m \u001b[0moutput_excel_file_path\u001b[0m\u001b[0;34m)\u001b[0m\u001b[0;34m\u001b[0m\u001b[0;34m\u001b[0m\u001b[0m\n\u001b[0m\u001b[1;32m    108\u001b[0m \u001b[0;34m\u001b[0m\u001b[0m\n\u001b[1;32m    109\u001b[0m \u001b[0;31m#print(f\"Data copied from {csv_file_path} to {output_excel_file_path} successfully.\")\u001b[0m\u001b[0;34m\u001b[0m\u001b[0;34m\u001b[0m\u001b[0m\n",
            "\u001b[0;31mNameError\u001b[0m: name 'df_csv' is not defined"
          ]
        }
      ],
      "source": [
        "import pandas as pd\n",
        "import gspread\n",
        "from oauth2client.service_account import ServiceAccountCredentials\n",
        "from google.colab import drive\n",
        "\n",
        "import sys\n",
        "\n",
        "# Mount Google Drive\n",
        "drive.mount('/content/drive')\n",
        "\n",
        "# Authenticate with Google Drive\n",
        "drive_path = '/content/drive/MyDrive'\n",
        "\n",
        "# Authenticate with Google Sheets\n",
        "scope = ['https://www.googleapis.com/auth/drive', 'https://www.googleapis.com/auth/spreadsheets']\n",
        "\n",
        "credentials = ServiceAccountCredentials.from_json_keyfile_name('/content/drive/MyDrive/JJVC_WIP/jjvc-392508-765246081d65.json', scope)\n",
        "gc = gspread.authorize(credentials)\n",
        "\n",
        "\n",
        "# Open the Google Sheets file\n",
        "sheet = gc.open('JJVC_OTM')\n",
        "worksheet = sheet.get_worksheet(0)\n",
        "\n",
        "\n",
        "\n",
        "\n",
        "\n",
        "def copy_csv_to_excel(csv_file, excel_file):\n",
        "    try:\n",
        "        # Read data from the Google Sheets file\n",
        "        data = worksheet.get_all_values()\n",
        "        df_csv = pd.DataFrame(data[1:], columns=data[0])\n",
        "\n",
        "        # Create a new Excel writer object\n",
        "        writer = pd.ExcelWriter(excel_file, engine='xlsxwriter')\n",
        "\n",
        "        # Write the DataFrame to the Excel file\n",
        "        df_excel.to_csv(writer, index=False, sheet_name='ORDER')\n",
        "\n",
        "        # Set default values in the respective columns\n",
        "        default_values = {\n",
        "            'OR_COUNTRY': 'TWN',\n",
        "            'OR_PRINCIPAL': 'JNJ',\n",
        "            'OR_TRANSACTIONCODE': 'U',\n",
        "            'OR_ORDERTYPE': 'OB',\n",
        "            'OR_ORDERSUBTYPE': 'DL',\n",
        "            'OR_ORDERSTATUS': '9',\n",
        "            'OR_TRPMODEPROFILE': 'LAND',\n",
        "            'OR_TRANSPORTMODE': 'LTL',\n",
        "            'OR_ORDERPRIORITY': '5',\n",
        "            'OR_ORDERSOURCE': 'EXL',\n",
        "            'OR_SERVICELEVEL': 'NORMAL',\n",
        "            'ORIG_LOCATIONKEY': 'DTDC',\n",
        "            'IP_ORDEROWNER': 'JNJ',\n",
        "            'IP_OPC': 'OPC-TW',\n",
        "            'ORL_LINENO': '1',\n",
        "            'ORL_COMMODITY': 'GENERAL',\n",
        "            'ORL_PCSQTY': 1,\n",
        "            'ORL_QTYUOM': 'PCS',\n",
        "            'SU_HANDLINGUNITID': 'FULL',\n",
        "            'SU_TOTALOUTER': 1,\n",
        "            'SU_GROSSVOLUME': 1,\n",
        "            'SU_VOLUMEUOM': 'MU2',\n",
        "            'SU_GROSSWEIGHT': 1,\n",
        "            'SU_WEIGHTUOM': 'KG',\n",
        "            'SU_ERU': 0.02,\n",
        "            'SU_ERUUOM': 'PALLET',\n",
        "            'SU_UPDATE': 'FROM_SOURCE'\n",
        "        }\n",
        "\n",
        "        # Copy data from CSV to Excel\n",
        "        df_excel = pd.read_excel(excel_file, sheet_name='ORDER')\n",
        "        df_excel['OR_CLIENTREFERENCENO'] = csv_file['Delivery']\n",
        "        df_excel['OR_ORDERSOURCEID'] = csv_file['Delivery']\n",
        "        df_excel['DST_LOCATIONNAME'] = csv_file['Ship-to party']\n",
        "        df_excel['DST_CONTACTNO'] = csv_file['Telephone']\n",
        "        df_excel['DST_ADDRESS1'] = csv_file['Street']\n",
        "        df_excel['ORL_PCSQTY'] = csv_file['nit']\n",
        "        df_excel['OR_ORDERADDDATE'] = csv_file['Created on']\n",
        "        df_excel['OR_ORDERADDDATE'] = pd.to_datetime(df_excel['OR_ORDERADDDATE'])\n",
        "        df_excel['OR_REQDELIVERYDATE'] = df_excel['OR_ORDERADDDATE'] + pd.DateOffset(days=1)\n",
        "\n",
        "        for column, default_value in default_values.items():\n",
        "            df_excel[column] = default_value\n",
        "\n",
        "        # Save the modified Excel file\n",
        "        df_excel.to_excel(writer, index=False, sheet_name='ORDER')\n",
        "\n",
        "        writer.save()\n",
        "        writer.close()\n",
        "\n",
        "        print(f\"Data copied from Google Sheets to {excel_file} successfully.\")\n",
        "\n",
        "    except Exception as e:\n",
        "        print(\"An error occurred:\", e)\n",
        "\n",
        "\n",
        "# Define file paths\n",
        "csv_file_path = drive_path + '/JJVC_WIP/JJVC_OTM.gsheet'\n",
        "excel_file_path = drive_path + '/JJVC_WIP/ORDER_TEMPLATE_JNJ.gsheet'\n",
        "output_excel_file_path = drive_path + '/JJVC_WIP/ORDER_WIP.gsheet'\n",
        "\n",
        "\n",
        "\n",
        "# Copy data from CSV to Excel and set default value in 'OR_COUNTRY' column\n",
        "copy_csv_to_excel(df_csv, output_excel_file_path)\n",
        "\n",
        "#print(f\"Data copied from {csv_file_path} to {output_excel_file_path} successfully.\")\n",
        "print(f\"Data copied from Google Sheets to {output_excel_file_path} successfully.\")\n"
      ]
    }
  ]
}