{
  "cells": [
    {
      "cell_type": "markdown",
      "metadata": {
        "id": "view-in-github",
        "colab_type": "text"
      },
      "source": [
        "<a href=\"https://colab.research.google.com/github/dannytsao/DannyTsao/blob/master/JP_CSV2Excel.ipynb\" target=\"_parent\"><img src=\"https://colab.research.google.com/assets/colab-badge.svg\" alt=\"Open In Colab\"/></a>"
      ]
    },
    {
      "cell_type": "code",
      "execution_count": null,
      "id": "c39f7492",
      "metadata": {
        "id": "c39f7492",
        "outputId": "d3c3a4a6-c009-40c0-fda4-9699d02dd5dc"
      },
      "outputs": [
        {
          "name": "stdout",
          "output_type": "stream",
          "text": [
            "Data copied from C:\\Users\\DannyTsao\\OneDrive - Li & Fung\\OTM\\JJVC\\JJVC_WIP\\ORDER_WIP.xlsx to C:\\Users\\DannyTsao\\OneDrive - Li & Fung\\OTM\\JJVC\\JJVC_WIP\\ORDER_WIP.xlsx successfully.\n",
            "Data copied from C:\\Users\\DannyTsao\\OneDrive - Li & Fung\\OTM\\JJVC\\JJVC_WIP\\JJVC_OTM.csv to C:\\Users\\DannyTsao\\OneDrive - Li & Fung\\OTM\\JJVC\\JJVC_WIP\\ORDER_WIP.xlsx successfully.\n"
          ]
        }
      ],
      "source": [
        "import pandas as pd\n",
        "from dateutil.parser import parse\n",
        "from dateutil.relativedelta import relativedelta\n",
        "\n",
        "import sys\n",
        "\n",
        "def copy_csv_to_excel(csv_file, excel_file):\n",
        "    try:\n",
        "        # Read CSV file into a pandas DataFrame\n",
        "        df_csv = pd.read_csv(csv_file, encoding='Big5')\n",
        "\n",
        "        # Create a new Excel writer object\n",
        "        writer = pd.ExcelWriter(excel_file, engine='xlsxwriter')\n",
        "\n",
        "        # Write the DataFrame to the Excel file\n",
        "        df_csv.to_excel(writer, index=False, sheet_name='ORDER')\n",
        "\n",
        "        # Access the Excel DataFrame\n",
        "        # workbook = writer.book\n",
        "        # worksheet = writer.sheets['Sheet1']\n",
        "\n",
        "        # Set default values in the respective columns\n",
        "        default_values = {\n",
        "            'OR_COUNTRY': 'TWN',\n",
        "            'OR_PRINCIPAL': 'JNJ',\n",
        "            'OR_TRANSACTIONCODE': 'U',\n",
        "            'OR_ORDERTYPE': 'OB',\n",
        "            'OR_ORDERSUBTYPE': 'DL',\n",
        "            'OR_ORDERSTATUS': '9',\n",
        "            'OR_TRPMODEPROFILE': 'LAND',\n",
        "            'OR_TRANSPORTMODE': 'LTL',\n",
        "            'OR_ORDERPRIORITY': '5',\n",
        "            'OR_ORDERSOURCE': 'EXL',\n",
        "            'OR_SERVICELEVEL': 'NORMAL',\n",
        "            'ORIG_LOCATIONKEY': 'DTDC',\n",
        "            'IP_ORDEROWNER': 'JNJ',\n",
        "            'IP_OPC': 'OPC-TW',\n",
        "            'ORL_LINENO': '1',\n",
        "            'ORL_COMMODITY': 'GENERAL',\n",
        "            'ORL_PCSQTY': 1,\n",
        "            'ORL_QTYUOM': 'PCS',\n",
        "            'SU_HANDLINGUNITID': 'FULL',\n",
        "            'SU_TOTALOUTER': 1,\n",
        "            'SU_GROSSVOLUME': 1,\n",
        "            'SU_VOLUMEUOM': 'MU2',\n",
        "            'SU_GROSSWEIGHT': 1,\n",
        "            'SU_WEIGHTUOM': 'KG',\n",
        "            'SU_ERU': 0.02,\n",
        "            'SU_ERUUOM': 'PALLET',\n",
        "            'SU_UPDATE': 'FROM_SOURCE'\n",
        "        }\n",
        "\n",
        "        # Copy data from CSV to Excel\n",
        "        df_excel = pd.read_excel(excel_file, sheet_name='ORDER')\n",
        "        df_excel['OR_CLIENTREFERENCENO'] = df_csv['Delivery']\n",
        "        df_excel['OR_ORDERSOURCEID'] = df_csv['Delivery']\n",
        "        df_excel['DST_LOCATIONNAME'] = df_csv['Ship-to party']\n",
        "        df_excel['DST_CONTACTNO'] = df_csv['Telephone']\n",
        "        df_excel['DST_ADDRESS1'] = df_csv['Street']\n",
        "        df_excel['ORL_PCSQTY'] = df_csv['nit']\n",
        "        df_excel['OR_ORDERADDDATE'] = df_csv['Created on']\n",
        "        df_excel['OR_ORDERADDDATE'] = pd.to_datetime(df_excel['OR_ORDERADDDATE'])\n",
        "        df_excel['OR_REQDELIVERYDATE'] = df_excel['OR_ORDERADDDATE'] + pd.DateOffset(days=1)\n",
        "\n",
        "        for column, default_value in default_values.items():\n",
        "            df_excel[column] = default_value\n",
        "\n",
        "        # Save the modified Excel file\n",
        "        df_excel.to_excel(writer, index=False, sheet_name='ORDER')\n",
        "\n",
        "        print(f\"Data copied from {csv_file} to {excel_file} successfully.\")\n",
        "\n",
        "    except Exception as e:\n",
        "        print(\"An error occurred:\", e)\n",
        "        sys.exit(1)\n",
        "\n",
        "\n",
        "# Define file paths\n",
        "csv_file_path = '/content/JJVC_OTM.csv'\n",
        "excel_file_path = '/content/ORDER TEMPLATE_JNJ.xlsx'\n",
        "output_excel_file_path = '/content/ORDER_WIP.xlsx'\n",
        "\n",
        "# Open the CSV file\n",
        "df_csv = pd.read_csv(csv_file_path, encoding='Big5')\n",
        "\n",
        "# Open the Excel file\n",
        "df_excel = pd.read_excel(excel_file_path, sheet_name='ORDER')\n",
        "\n",
        "# Copy data from CSV to Excel and set default value in 'OR_COUNTRY' column\n",
        "copy_csv_to_excel(csv_file_path, output_excel_file_path)\n",
        "\n",
        "print(f\"Data copied from {csv_file_path} to {output_excel_file_path} successfully.\")\n"
      ]
    },
    {
      "cell_type": "code",
      "execution_count": null,
      "id": "ae2eadc2",
      "metadata": {
        "id": "ae2eadc2"
      },
      "outputs": [],
      "source": []
    }
  ],
  "metadata": {
    "kernelspec": {
      "display_name": "Python 3 (ipykernel)",
      "language": "python",
      "name": "python3"
    },
    "language_info": {
      "codemirror_mode": {
        "name": "ipython",
        "version": 3
      },
      "file_extension": ".py",
      "mimetype": "text/x-python",
      "name": "python",
      "nbconvert_exporter": "python",
      "pygments_lexer": "ipython3",
      "version": "3.10.12"
    },
    "colab": {
      "provenance": [],
      "include_colab_link": true
    }
  },
  "nbformat": 4,
  "nbformat_minor": 5
}