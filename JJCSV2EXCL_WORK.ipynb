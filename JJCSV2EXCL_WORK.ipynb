{
  "nbformat": 4,
  "nbformat_minor": 0,
  "metadata": {
    "colab": {
      "provenance": [],
      "authorship_tag": "ABX9TyPvszsOy+OkOsM/TyEk/GLX",
      "include_colab_link": true
    },
    "kernelspec": {
      "name": "python3",
      "display_name": "Python 3"
    },
    "language_info": {
      "name": "python"
    }
  },
  "cells": [
    {
      "cell_type": "markdown",
      "metadata": {
        "id": "view-in-github",
        "colab_type": "text"
      },
      "source": [
        "<a href=\"https://colab.research.google.com/github/dannytsao/DannyTsao/blob/master/JJCSV2EXCL_WORK.ipynb\" target=\"_parent\"><img src=\"https://colab.research.google.com/assets/colab-badge.svg\" alt=\"Open In Colab\"/></a>"
      ]
    },
    {
      "cell_type": "code",
      "execution_count": 3,
      "metadata": {
        "colab": {
          "base_uri": "https://localhost:8080/"
        },
        "id": "JT8ZHwbGHmYQ",
        "outputId": "d40ca84f-845d-4093-c738-0243ac1a6517"
      },
      "outputs": [
        {
          "output_type": "stream",
          "name": "stdout",
          "text": [
            "Drive already mounted at /content/drive; to attempt to forcibly remount, call drive.mount(\"/content/drive\", force_remount=True).\n",
            "Data copied from /content/drive/MyDrive/JJVC_WIP/JJVC_OTM.csv to /content/drive/MyDrive/JJVC_WIP/ORDER_WIP_20230728_093155.xlsx successfully.\n"
          ]
        }
      ],
      "source": [
        "import pandas as pd\n",
        "import shutil\n",
        "import csv\n",
        "from oauth2client.service_account import ServiceAccountCredentials\n",
        "from google.colab import drive\n",
        "from datetime import datetime\n",
        "\n",
        "# Mount Google Drive\n",
        "drive.mount('/content/drive')\n",
        "\n",
        "# Authenticate with Google Drive\n",
        "drive_path = '/content/drive/MyDrive'\n",
        "\n",
        "# Authenticate with Google Sheets\n",
        "scope = ['https://www.googleapis.com/auth/drive', 'https://www.googleapis.com/auth/spreadsheets']\n",
        "\n",
        "#credentials = ServiceAccountCredentials.from_json_keyfile_name('/content/drive/MyDrive/JJVC_WIP/jjvc-392508-765246081d65.json', scope)\n",
        "#gc = gspread.authorize(credentials)\n",
        "\n",
        "# Get the current datetime and format it to a string\n",
        "now = datetime.now()\n",
        "datetime_str = now.strftime('%Y%m%d_%H%M%S')\n",
        "\n",
        "# Define file paths\n",
        "csv_file_path = drive_path + '/JJVC_WIP/JJVC_OTM.csv'\n",
        "excel_file_path = drive_path + '/JJVC_WIP/ORDER.xlsx'\n",
        "output_excel_file_path = f\"{drive_path}/JJVC_WIP/ORDER_WIP_{datetime_str}.xlsx\"\n",
        "\n",
        "\n",
        "import csv\n",
        "import pandas as pd\n",
        "\n",
        "# Set default values in the respective columns\n",
        "default_values = {\n",
        "    'OR_COUNTRY': 'TWN',\n",
        "    'OR_PRINCIPAL': 'JNJ',\n",
        "    'OR_TRANSACTIONCODE': 'U',\n",
        "    'OR_ORDERTYPE': 'OB',\n",
        "    'OR_ORDERSUBTYPE': 'DL',\n",
        "    'OR_ORDERSTATUS': '9',\n",
        "    'OR_TRPMODEPROFILE': 'LAND',\n",
        "    'OR_TRANSPORTMODE': 'LTL',\n",
        "    'OR_ORDERPRIORITY': '5',\n",
        "    'OR_ORDERSOURCE': 'EXL',\n",
        "    'OR_SERVICELEVEL': 'NORMAL',\n",
        "    'ORIG_LOCATIONKEY': 'DTDC',\n",
        "    'IP_ORDEROWNER': 'JNJ',\n",
        "    'IP_OPC': 'OPC-TW',\n",
        "    'ORL_LINENO': '1',\n",
        "    'ORL_COMMODITY': 'GENERAL',\n",
        "    'ORL_PCSQTY': 1,\n",
        "    'ORL_QTYUOM': 'PCS',\n",
        "    'SU_HANDLINGUNITID': 'FULL',\n",
        "    'SU_TOTALOUTER': 1,\n",
        "    'SU_GROSSVOLUME': 1,\n",
        "    'SU_VOLUMEUOM': 'MU2',\n",
        "    'SU_GROSSWEIGHT': 1,\n",
        "    'SU_WEIGHTUOM': 'KG',\n",
        "    'SU_ERU': 0.02,\n",
        "    'SU_ERUUOM': 'PALLET',\n",
        "    'SU_UPDATE': 'FROM_SOURCE'\n",
        "}\n",
        "\n",
        "def copy_csv_to_excel(csv_file_path, excel_template_path, output_excel_path):\n",
        "    try:\n",
        "        # Open CSV file using the csv module\n",
        "        with open(csv_file_path, 'r', encoding='big5') as file:\n",
        "            reader = csv.DictReader(file)\n",
        "            rows = list(reader)\n",
        "\n",
        "        # Read the Excel template file\n",
        "        df_template = pd.read_excel(excel_template_path, sheet_name='ORDER')\n",
        "\n",
        "        # Perform the desired modifications to the data\n",
        "        for i, row in enumerate(rows):\n",
        "            df_template.at[i, 'OR_CLIENTREFERENCENO'] = row['Delivery']\n",
        "            df_template.at[i, 'OR_ORDERSOURCEID'] = row['Delivery']\n",
        "            df_template.at[i, 'DST_LOCATIONNAME'] = row['Ship-to party']\n",
        "            df_template.at[i, 'DST_CONTACTNO'] = row['Telephone']\n",
        "            df_template.at[i, 'DST_ADDRESS1'] = row['Street']\n",
        "            df_template.at[i, 'ORL_PCSQTY'] = row['nit']\n",
        "            df_template.at[i, 'OR_ORDERADDDATE'] = pd.to_datetime(row['Created on'])\n",
        "            df_template.at[i, 'OR_REQDELIVERYDATE'] = df_template.at[i, 'OR_ORDERADDDATE'] + pd.DateOffset(days=1)\n",
        "\n",
        "        # Set default values in the respective columns\n",
        "        for column, default_value in default_values.items():\n",
        "            df_template[column] = default_value\n",
        "\n",
        "        # Save the modified DataFrame to the output Excel file\n",
        "        df_template.to_excel(output_excel_path, index=False, sheet_name='ORDER')\n",
        "\n",
        "        print(f\"Data copied from {csv_file_path} to {output_excel_path} successfully.\")\n",
        "\n",
        "    except Exception as e:\n",
        "        print(\"An error occurred:\", e)\n",
        "\n",
        "\n",
        "# Copy data from CSV to Excel and set default value in 'OR_COUNTRY' column\n",
        "copy_csv_to_excel(csv_file_path, excel_file_path, output_excel_file_path)\n",
        "\n"
      ]
    }
  ]
}